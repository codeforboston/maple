{
 "cells": [
  {
   "cell_type": "markdown",
   "metadata": {},
   "source": [
    "This notebook finds connected bills and displays their connections. "
   ]
  },
  {
   "cell_type": "code",
   "execution_count": 1,
   "metadata": {},
   "outputs": [],
   "source": [
    "from analysis import collectConnections, print_with_stats"
   ]
  },
  {
   "cell_type": "code",
   "execution_count": 2,
   "metadata": {},
   "outputs": [],
   "source": [
    "bill_number = 'H4461'"
   ]
  },
  {
   "cell_type": "code",
   "execution_count": 4,
   "metadata": {},
   "outputs": [
    {
     "name": "stdout",
     "output_type": "stream",
     "text": [
      "total bills:  8\n",
      "\n",
      "bill:  H3456\n",
      "history actions:  6\n",
      "connections:  {'H4459', 'S2289', 'H4822', 'H4461', 'S2872', 'S2851', 'H4805', 'H4470'}\n",
      "House 03/29/21 14:50:09 Referred to the committee on Transportation\n",
      "Senate 03/30/21 03:59:59 Senate concurred\n",
      "Joint 05/28/21 20:03:41 Hearing scheduled for 06/23/2021 from 02:00 PM-04:00 PM in Virtual Hearing\n",
      "House 01/31/22 16:30:33 Reporting date extended to Friday March 4, 2022, pending concurrence\n",
      "Senate 02/10/22 16:41:41 Senate concurred\n",
      "House 02/14/22 18:10:10 Accompanied a new draft, see H4459\n",
      "\n",
      "\n",
      "bill:  H4459\n",
      "history actions:  9\n",
      "connections:  {'H3456', 'H4822', 'S2289', 'H4461', 'S2872', 'S2851', 'H4805', 'H4470'}\n",
      "House 02/14/22 18:10:10 Reported from the committee on Transportation\n",
      "House 02/14/22 18:10:10 New draft of S2289 and H3456\n",
      "House 02/14/22 18:10:10 Bill reported favorably by committee and referred to the committee on House Ways and Means\n",
      "House 02/15/22 05:00:00 Committee recommended ought to pass with an amendment, substituting therefor a bill, see H4461\n",
      "House 02/15/22 05:00:00 Referred to the committee on House Steering, Policy and Scheduling with the amendment pending\n",
      "House 02/15/22 05:00:00 Committee reported that the matter be placed in the Orders of the Day for the next sitting for a second reading with the amendment pending\n",
      "House 02/15/22 05:00:00 Rules suspended\n",
      "House 02/15/22 05:00:00 Read second, amended (as recommended by the committee on House Ways and Means)\n",
      "House 02/15/22 05:00:00 New draft substituted, see H4461\n",
      "\n",
      "\n",
      "bill:  S2289\n",
      "history actions:  6\n",
      "connections:  {'H3456', 'H4459', 'H4822', 'H4461', 'S2872', 'S2851', 'H4805', 'H4470'}\n",
      "Senate 03/29/21 15:26:19 Referred to the committee on Transportation\n",
      "House 03/29/21 15:26:19 House concurred\n",
      "Joint 05/28/21 20:03:41 Hearing scheduled for 06/23/2021 from 02:00 PM-04:00 PM in Virtual Hearing\n",
      "House 01/31/22 16:30:33 Reporting date extended to Friday March 4, 2022, pending concurrence\n",
      "Senate 02/10/22 16:41:41 Senate concurred\n",
      "House 02/14/22 18:10:10 Accompanied a new draft, see H4459\n",
      "\n",
      "\n",
      "bill:  H4822\n",
      "history actions:  1\n",
      "connections:  {'H3456', 'H4459', 'S2289', 'H4461', 'S2872', 'S2851', 'H4805', 'H4470'}\n",
      "House 05/31/22 04:00:00 See H4805\n",
      "\n",
      "\n",
      "bill:  S2872\n",
      "history actions:  2\n",
      "connections:  {'H3456', 'H4822', 'H4459', 'S2289', 'H4461', 'S2851', 'H4805', 'H4470'}\n",
      "Senate 05/05/22 04:00:00 Text of S2851, printed as amended\n",
      "Senate 05/05/22 04:00:00 See H4470\n",
      "\n",
      "\n",
      "bill:  S2851\n",
      "history actions:  26\n",
      "connections:  {'H3456', 'H4822', 'H4459', 'S2289', 'H4461', 'S2872', 'H4805', 'H4470'}\n",
      "Senate 04/28/22 04:00:00 Reported from the committee on Senate Rules\n",
      "Senate 04/28/22 04:00:00 Recommended new text for H4470\n",
      "Senate 04/28/22 04:00:00 Order relative to subject matter adopted\n",
      "Senate 05/05/22 19:05:31 Amendment #2 (Tarr) rejected -see Roll Call #161 (Yeas 8 to Nays 31)\n",
      "Senate 05/05/22 19:13:54 Amendment #3 (Tarr) rejected -see Roll Call #162 (Yeas 7 to Nays 32)\n",
      "Senate 05/05/22 19:13:58 Amendment #4 (Tarr) rejected\n",
      "Senate 05/05/22 19:16:58 Amendment #5 (Tarr) rejected\n",
      "Senate 05/05/22 19:17:13 Amendment #6 (Tarr) rejected\n",
      "Senate 05/05/22 19:27:53 Amendment #7 (Fattman) rejected -see Roll Call #163 (Yeas 10 to Nays 29)\n",
      "Senate 05/05/22 19:28:00 Amendment #8 (Tarr) laid aside as duplicative\n",
      "Senate 05/05/22 19:31:16 Amendment #9 (Pacheco) laid aside as beyond the scope of the bill\n",
      "Senate 05/05/22 19:51:59 Amendment #10 (Tarr) rejected -see Roll Call #164 (Yeas 9 to Nays 30)\n",
      "Senate 05/05/22 19:52:53 Amendment #12 (Tarr) rejected\n",
      "Senate 05/05/22 19:55:10 Amendment #13 (Tarr) rejected\n",
      "Senate 05/05/22 19:56:13 Amendment #17 (Tarr) rejected\n",
      "Senate 05/05/22 19:56:23 Amendment #18 (Tarr) rejected\n",
      "Senate 05/05/22 19:56:34 Amendment #20 (Tarr) rejected\n",
      "Senate 05/05/22 19:58:05 Amendment #21 (Tarr) rejected\n",
      "Senate 05/05/22 19:58:30 Amendment #22 (Velis) rejected\n",
      "Senate 05/05/22 19:58:44 Amendment #23 (Tarr) rejected\n",
      "Senate 05/05/22 19:59:01 Amendment #24 (Velis) rejected\n",
      "Senate 05/05/22 20:14:54 Amendment #25 (Tarr) rejected -see Roll Call #165 (Yeas 7 to Nays 31)\n",
      "Senate 05/05/22 20:27:14 Amendment #11 (Crighton) adopted\n",
      "Senate 05/05/22 04:00:00 Reprinted as amended, see S2872\n",
      "Senate 05/05/22 04:00:00 Substituted, as amended for H4470\n",
      "Senate 05/05/22 04:00:00 See H4470\n",
      "\n",
      "\n",
      "bill:  H4805\n",
      "history actions:  18\n",
      "connections:  {'H3456', 'H4822', 'H4459', 'S2289', 'H4461', 'S2872', 'S2851', 'H4470'}\n",
      "House 05/19/22 04:00:00 Reported from the committee of conference\n",
      "House 05/19/22 04:00:00 Reported on H4470\n",
      "House 05/19/22 04:00:00 Referred to the committee on House Steering, Policy and Scheduling\n",
      "House 05/26/22 04:00:00 Committee reported that the matter be placed in the Orders of the Day for the next sitting, the question being on acceptance\n",
      "House 05/26/22 04:00:00 Rules suspended\n",
      "House 05/26/22 04:00:00 Committee of conference report accepted - 118 YEAS to 36 NAYS (See YEA and NAY No. 189)\n",
      "Senate 05/26/22 04:00:00 Rules suspended\n",
      "Senate 05/26/22 04:00:00 Committee of conference report accepted, in concurrence -see Roll Call #180 (Yeas 32 to Nays 8)\n",
      "House 05/26/22 04:00:00 Enacted - 117 YEAS to 36 NAYS (See YEA and NAY No. 191)\n",
      "Senate 05/26/22 21:12:31 Enacted and laid before the Governor\n",
      "Executive 05/27/22 04:00:00 Governor returned to the House with veto\n",
      "House 05/31/22 04:00:00 For message, see H4822\n",
      "House 05/31/22 04:00:00 Placed in the Orders of the Day for the next sitting\n",
      "House 06/08/22 04:00:00 Rules suspended\n",
      "House 06/08/22 04:00:00 Passed over veto - 119 YEAS to 36 NAYS (See YEA and NAY No. 195)\n",
      "Senate 06/09/22 04:00:00 Rules suspended\n",
      "Senate 06/09/22 04:00:00 Passed over veto -see Roll Call #185 (Yeas 32 to Nays 8)\n",
      "Senate 06/09/22 04:00:00 Chapter 81 of the Acts of 2022\n",
      "\n",
      "\n",
      "bill:  H4470\n",
      "history actions:  20\n",
      "connections:  {'H3456', 'H4822', 'H4459', 'S2289', 'H4461', 'S2872', 'S2851', 'H4805'}\n",
      "House 02/16/22 05:00:00 H4461, published as amended\n",
      "House 02/16/22 05:00:00 Passed to be engrossed - 120 YEAS to 36 NAYS (See YEA and NAY No. 147)\n",
      "Senate 04/25/22 15:15:37 Read\n",
      "Senate 04/25/22 04:00:00 Referred on motion (Crighton) to the committee on Senate Rules\n",
      "Senate 04/28/22 18:05:54 Committee reported that the matter be placed in the Orders of the Day for Thursday, May 5, 2022 with an amendment, inserting in place thereof the text of S2851\n",
      "Senate 04/28/22 04:00:00 Order relative to subject matter adopted\n",
      "Senate 04/28/22 04:00:00 Placed in the Orders of the Day for Thursday, May 5, 2022\n",
      "Senate 05/05/22 20:51:09 Read second\n",
      "Senate 05/05/22 04:00:00 Amended by striking out all after the enacting clause and insetting in place thereof the text of S2851\n",
      "Senate 05/05/22 04:00:00 Ordered to a third reading\n",
      "Senate 05/05/22 04:00:00 Read third\n",
      "Senate 05/05/22 04:00:00 Reprinted as amended, see S2872\n",
      "Senate 05/05/22 04:00:00 Passed to be engrossed -see Roll Call #166 (Yeas 32 to Nays 8)\n",
      "House 05/17/22 04:00:00 Rules suspended\n",
      "House 05/17/22 04:00:00 House NON-concurred in the Senate amendment\n",
      "House 05/17/22 04:00:00 Committee of conference appointed (Straus-Devers-Xiarhos)\n",
      "Senate 05/19/22 04:00:00 Rules suspended\n",
      "Senate 05/19/22 04:00:00 Senate insisted on its amendment\n",
      "Senate 05/19/22 04:00:00 Committee of conference appointed (Crighton-Lovely-Fattman), in concurrence\n",
      "House 05/19/22 04:00:00 Reported by H4805\n",
      "\n"
     ]
    }
   ],
   "source": [
    "# Print all the history of all bills connected to the input bill.\n",
    "# \n",
    "# Bills are connected if a history action references a bill ID.\n",
    "# \n",
    "# Any connection should show up in both bill histories. For example \"Accompanied\n",
    "# H1234\" in S5678 and \"Accompanied by S5678\" in H1234.\n",
    "\n",
    "connections = collectConnections(bill_number)\n",
    "print_with_stats(connections)"
   ]
  },
  {
   "cell_type": "code",
   "execution_count": 5,
   "metadata": {},
   "outputs": [
    {
     "name": "stdout",
     "output_type": "stream",
     "text": [
      "H4461 ['H4470', 'H4459']\n",
      "H4470 ['S2872', 'S2851', 'H4461', 'H4805']\n",
      "H4459 ['S2289', 'H3456', 'H4461']\n"
     ]
    }
   ],
   "source": [
    "# Find all the bills directly connected to the input bill and print them, and\n",
    "# their direct connection.\n",
    "\n",
    "def get_direct_connections(bill_num):\n",
    "  return list(getReferencedBills(getHistory(bill_num)))\n",
    "\n",
    "def get_bill_cloud(bill_num):\n",
    "    r = get_direct_connections(bill_num)\n",
    "    print(bill_num,r)\n",
    "    for c in r: \n",
    "      p = get_direct_connections(c)\n",
    "      print(c, p)\n",
    "\n",
    "get_bill_cloud(bill_number)"
   ]
  }
 ],
 "metadata": {
  "kernelspec": {
   "display_name": "Python 3.9.10 ('maps': venv)",
   "language": "python",
   "name": "python3"
  },
  "language_info": {
   "codemirror_mode": {
    "name": "ipython",
    "version": 3
   },
   "file_extension": ".py",
   "mimetype": "text/x-python",
   "name": "python",
   "nbconvert_exporter": "python",
   "pygments_lexer": "ipython3",
   "version": "3.9.10"
  },
  "orig_nbformat": 4,
  "vscode": {
   "interpreter": {
    "hash": "6fc4a130331961d1338f2a04b91d69ca83271a65ed2826cc09598a91e7544b14"
   }
  }
 },
 "nbformat": 4,
 "nbformat_minor": 2
}
