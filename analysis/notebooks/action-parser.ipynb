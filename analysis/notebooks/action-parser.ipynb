{
 "cells": [
  {
   "cell_type": "code",
   "execution_count": null,
   "metadata": {},
   "outputs": [],
   "source": [
    "from analysis import collectConnections, print_with_stats\n",
    "import pandas as pd\n",
    "import re"
   ]
  },
  {
   "cell_type": "code",
   "execution_count": null,
   "metadata": {},
   "outputs": [],
   "source": [
    "to_namedtuple = lambda x: list(x.itertuples())\n",
    "actions = to_namedtuple(pd.read_csv('../data/all-history-actions.csv'))\n",
    "actions_df = pd.read_csv('../data/all-history-actions.csv')\n",
    "findBillNum = re.compile('([HS]\\d{1,5})')"
   ]
  },
  {
   "cell_type": "code",
   "execution_count": null,
   "metadata": {},
   "outputs": [],
   "source": [
    "actions_df"
   ]
  },
  {
   "cell_type": "code",
   "execution_count": null,
   "metadata": {},
   "outputs": [],
   "source": [
    "# TODO: parse action types: \"referred to\", \"hearing scheduled\", \"reported from\"\n",
    "# TODO: create parse function that converts a raw action string to an array of dicts. Each dict has a 'type' field that identifies its type, and additional attribute fields\n",
    "\n",
    "referred = re.compile(\n",
    "    \"(?P<type>referred to the committee) on (?P<committee_name>.*)\", flags=re.IGNORECASE\n",
    ")\n",
    "\n",
    "hearing_scheduled = re.compile(\n",
    "    \"(?P<type>hearing scheduled) for (?P<date>.*) from (?P<time>.*) in (?P<forum>.*)\", flags = re.IGNORECASE\n",
    ")\n",
    "\n",
    "reported_from = re.compile(\n",
    "    \"(?P<type>reported) from (?P<committee_name>.*)\", flags= re.IGNORECASE\n",
    ")\n",
    "\n",
    "reading = re.compile(\n",
    "    \"(?P<type>read) (?P<reading>second|third|second and ordered to a third|)\", flags= re.IGNORECASE\n",
    ")\n",
    "\n",
    "enacted = re.compile(\n",
    "    \"(?P<type>enacted) and (?P<info>.*)\", flags= re.IGNORECASE\n",
    ")\n",
    "\n",
    "enacted_votes = re.compile(\n",
    "    \"(?P<type>enacted) - (?P<info>.*)\", flags= re.IGNORECASE\n",
    ")\n",
    "\n",
    "\n",
    "action = actions[0].action\n",
    "r = referred.match(action)\n",
    "\n",
    "# actions[0] is a namedtuple. You can convert it to a dict with actions[0]._asdict()\n",
    "# display(actions[0])\n",
    "# print(action, r.groupdict())\n",
    "# print(actions[0]._asdict().keys())\n",
    "\n",
    "# def parse(action):\n",
    "#     return [{\"type\": \"reported\"}, {\"type\": \"referred\", \"committee_name\": \"Technology\"}]"
   ]
  },
  {
   "cell_type": "code",
   "execution_count": null,
   "metadata": {},
   "outputs": [],
   "source": [
    "\n",
    "action_types = [reading]\n",
    "\n",
    "#creates list of actions from dictionaries\n",
    "def extract_actions(actions):\n",
    "    action_dict = action_to_dict(actions)\n",
    "    extracted_actions = [action['action'] for action in action_dict]\n",
    "    return extracted_actions\n",
    "\n",
    "\n",
    "#converts list named tuples to a list of dictionaries\n",
    "def action_to_dict(actions):\n",
    "    action_dict = [action._asdict() for action in actions]\n",
    "    return action_dict\n",
    "\n",
    "\n",
    "#creates list of dictionaries of matching action types\n",
    "def parse_actions(action_types, actions_dict):\n",
    "    selected_actions = []\n",
    "    for action_type in action_types:\n",
    "        for action in actions_dict:\n",
    "            selected_action = action_type.match(action['action'])\n",
    "            if selected_action:\n",
    "                    selected_actions.append(selected_action.groupdict())\n",
    "    return selected_actions\n",
    "\n",
    "\n",
    "def strip_committee(action_dict):\n",
    "    cleaned_actions = []\n",
    "    for dict_ in action_dict:\n",
    "        cleaned_committee = dict_['committee_name'].strip()\n",
    "        cleaned_dict = {'type': (dict_['type']), 'committee_name': (cleaned_committee)}\n",
    "        cleaned_actions.append(cleaned_dict)\n",
    "    return cleaned_actions\n",
    "\n",
    "\n",
    "def append_actions(action_types, actions_dict):\n",
    "    selected_actions = []\n",
    "    for action_type in action_types:\n",
    "        for action in actions_dict:\n",
    "            selected_action = action_type.match(action['action'])\n",
    "            if selected_action:\n",
    "                    selected_action_dict = selected_action.groupdict()\n",
    "                    selected_dict = {'id': action['id'], 'branch': action['branch'],\n",
    "                     'date': action['date'], 'type': selected_action_dict['type'], 'info': selected_action_dict['info']}\n",
    "                    selected_actions.append(selected_dict)\n",
    "    return selected_actions\n"
   ]
  },
  {
   "cell_type": "code",
   "execution_count": null,
   "metadata": {},
   "outputs": [],
   "source": [
    "action_dict = parse_actions(action_types, action_to_dict(actions))\n",
    "\n",
    "action_dict\n"
   ]
  },
  {
   "cell_type": "code",
   "execution_count": null,
   "metadata": {},
   "outputs": [],
   "source": [
    "appended_action_types = [enacted, enacted_votes]\n",
    "\n",
    "append_actions(appended_action_types, action_to_dict(actions))"
   ]
  },
  {
   "cell_type": "code",
   "execution_count": null,
   "metadata": {},
   "outputs": [],
   "source": [
    "bill_number = 'H4461'\n",
    "connections = collectConnections(bill_number)\n",
    "print_with_stats(connections)"
   ]
  }
 ],
 "metadata": {
  "kernelspec": {
   "display_name": "Python 3.9.10 ('maps': venv)",
   "language": "python",
   "name": "python3"
  },
  "language_info": {
   "codemirror_mode": {
    "name": "ipython",
    "version": 3
   },
   "file_extension": ".py",
   "mimetype": "text/x-python",
   "name": "python",
   "nbconvert_exporter": "python",
   "pygments_lexer": "ipython3",
   "version": "3.9.10"
  },
  "orig_nbformat": 4,
  "vscode": {
   "interpreter": {
    "hash": "6fc4a130331961d1338f2a04b91d69ca83271a65ed2826cc09598a91e7544b14"
   }
  }
 },
 "nbformat": 4,
 "nbformat_minor": 2
}
