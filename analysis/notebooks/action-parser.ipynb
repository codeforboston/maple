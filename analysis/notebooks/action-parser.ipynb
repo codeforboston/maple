{
 "cells": [
  {
   "cell_type": "code",
   "execution_count": null,
   "metadata": {},
   "outputs": [],
   "source": [
    "from analysis import collectConnections, print_with_stats\n",
    "import pandas as pd\n",
    "import re\n",
    "import json"
   ]
  },
  {
   "cell_type": "code",
   "execution_count": null,
   "metadata": {},
   "outputs": [],
   "source": [
    "\n",
    "to_namedtuple = lambda x: list(x.itertuples())\n",
    "actions = to_namedtuple(pd.read_csv('../data/all-history-actions.csv'))\n",
    "actions_df = pd.read_csv('../data/all-history-actions.csv')\n",
    "findBillNum = re.compile('([HS]\\d{1,5})')"
   ]
  },
  {
   "cell_type": "code",
   "execution_count": null,
   "metadata": {},
   "outputs": [],
   "source": [
    "# TODO: parse action types: \"referred to\", \"hearing scheduled\", \"reported from\"\n",
    "# TODO: create parse function that converts a raw action string to an array of dicts. Each dict has a 'type' field that identifies its type, and additional attribute fields\n",
    "\n",
    "referred = re.compile(\n",
    "    \"(?P<type>referred to the committee) on (?P<committee_name>.*)\", flags=re.IGNORECASE\n",
    ")\n",
    "\n",
    "hearing_scheduled = re.compile(\n",
    "    \"(?P<type>hearing scheduled) for (?P<date>.*) from (?P<time>.*) in (?P<forum>.*)\", flags = re.IGNORECASE\n",
    ")\n",
    "\n",
    "reported_from = re.compile(\n",
    "    \"(?P<type>reported) from (?P<committee_name>.*)\", flags= re.IGNORECASE\n",
    ")\n",
    "\n",
    "reading = re.compile(\n",
    "    \"(?P<type>read) (?P<reading>(second|third|second and ordered to a third))\", flags= re.IGNORECASE\n",
    ")\n",
    "\n",
    "enacted = re.compile(\n",
    "    \"(?P<type>enacted) and (?P<info>.*)\", flags= re.IGNORECASE\n",
    ")\n",
    "\n",
    "enacted_votes = re.compile(\n",
    "    \"(?P<type>enacted) - (?P<info>.*)\", flags= re.IGNORECASE\n",
    ")\n",
    "\n",
    "\n",
    "action = actions[0].action\n",
    "r = referred.match(action)\n",
    "\n",
    "# actions[0] is a namedtuple. You can convert it to a dict with actions[0]._asdict()\n",
    "# display(actions[0])\n",
    "# print(action, r.groupdict())\n",
    "# print(actions[0]._asdict().keys())\n",
    "\n",
    "# def parse(action):\n",
    "#     return [{\"type\": \"reported\"}, {\"type\": \"referred\", \"committee_name\": \"Technology\"}]"
   ]
  },
  {
   "cell_type": "code",
   "execution_count": null,
   "metadata": {},
   "outputs": [],
   "source": [
    "\n",
    "action_types = [reported_from, referred]\n",
    "\n",
    "#creates list of actions from dictionaries\n",
    "def extract_actions(actions):\n",
    "    action_dict = action_to_dict(actions)\n",
    "    extracted_actions = [action['action'] for action in action_dict]\n",
    "    return extracted_actions\n",
    "\n",
    "\n",
    "#converts list of named tuples to a list of dictionaries\n",
    "def action_to_dict(actions):\n",
    "    action_dict = [action._asdict() for action in actions]\n",
    "    return action_dict\n",
    "\n",
    "\n",
    "#creates list of dictionaries of matching action types\n",
    "def parse_actions(action_types, actions_dict):\n",
    "    selected_actions = []\n",
    "    for action_type in action_types:\n",
    "        for action in actions_dict:\n",
    "            selected_action = action_type.match(action['action'])\n",
    "            if selected_action:\n",
    "                    selected_actions.append(selected_action.groupdict())\n",
    "    return selected_actions\n",
    "\n",
    "#creates list of enacted actions\n",
    "def append_enacted_actions(action_types, actions_dict):\n",
    "    selected_actions = []\n",
    "    for action_type in action_types:\n",
    "        for action in actions_dict:\n",
    "            selected_action = action_type.match(action['action'])\n",
    "            if selected_action:\n",
    "                    selected_action_dict = selected_action.groupdict()\n",
    "                    selected_dict = {'id': action['id'], 'branch': action['branch'],\n",
    "                     'date': action['date'], 'type': selected_action_dict['type'], 'info': selected_action_dict['info']}\n",
    "                    selected_actions.append(selected_dict)\n",
    "    return selected_actions\n",
    "\n",
    "#creates list of reported and referred actions\n",
    "def append_committee_actions(action_types, actions_dict):\n",
    "    selected_actions = []\n",
    "    for action_type in action_types:\n",
    "        for action in actions_dict:\n",
    "            selected_action = action_type.match(action['action'])\n",
    "            if selected_action:\n",
    "                    selected_action_dict = selected_action.groupdict()\n",
    "                    selected_dict = {'id': action['id'], 'branch': action['branch'],\n",
    "                     'date': action['date'], 'type': selected_action_dict['type'], 'committee_name': selected_action_dict['committee_name']}\n",
    "                    selected_actions.append(selected_dict)\n",
    "    return selected_actions\n",
    "\n",
    "#creates list of hearing scheduled actions\n",
    "def append_hearing_actions(action_types, actions_dict):\n",
    "    selected_actions = []\n",
    "    for action_type in action_types:\n",
    "        for action in actions_dict:\n",
    "            selected_action = action_type.match(action['action'])\n",
    "            if selected_action:\n",
    "                    selected_action_dict = selected_action.groupdict()\n",
    "                    selected_dict = {'id': action['id'], 'branch': action['branch'],\n",
    "                     'date': action['date'], 'type': selected_action_dict['type'], 'scheduled_date': selected_action_dict['date'], 'time': selected_action_dict['time'], 'forum': selected_action_dict['forum']}\n",
    "                    selected_actions.append(selected_dict)\n",
    "    return selected_actions\n"
   ]
  },
  {
   "cell_type": "code",
   "execution_count": null,
   "metadata": {},
   "outputs": [],
   "source": [
    "action_dict = parse_actions(action_types, action_to_dict(actions))\n",
    "\n",
    "action_dict\n"
   ]
  },
  {
   "cell_type": "code",
   "execution_count": null,
   "metadata": {},
   "outputs": [],
   "source": [
    "appended_action_types = [enacted, enacted_votes]\n",
    "\n",
    "append_enacted_actions(appended_action_types, action_to_dict(actions))"
   ]
  },
  {
   "cell_type": "code",
   "execution_count": null,
   "metadata": {},
   "outputs": [],
   "source": [
    "#exports parsed actions to a JSON file\n",
    "def write_json(dictionary, str):\n",
    "    json_object = json.dumps(dictionary, indent=4)\n",
    "    with open(f\"../data/{str}.json\", \"w\") as outfile:\n",
    "        outfile.write(json_object)"
   ]
  },
  {
   "cell_type": "code",
   "execution_count": null,
   "metadata": {},
   "outputs": [],
   "source": [
    "write_json(append_enacted_actions(appended_action_types, action_to_dict(actions)), 'enacted')"
   ]
  },
  {
   "cell_type": "code",
   "execution_count": null,
   "metadata": {},
   "outputs": [],
   "source": [
    "action_types = [reported_from, referred]\n",
    "write_json(append_committee_actions(action_types, action_to_dict(actions)), 'reported-referred')"
   ]
  },
  {
   "cell_type": "code",
   "execution_count": null,
   "metadata": {},
   "outputs": [],
   "source": [
    "action_types = [hearing_scheduled]\n",
    "write_json(append_hearing_actions(action_types, action_to_dict(actions)), 'hearing_scheduled')"
   ]
  }
 ],
 "metadata": {
  "kernelspec": {
   "display_name": "Python 3.9.10 ('maps': venv)",
   "language": "python",
   "name": "python3"
  },
  "language_info": {
   "codemirror_mode": {
    "name": "ipython",
    "version": 3
   },
   "file_extension": ".py",
   "mimetype": "text/x-python",
   "name": "python",
   "nbconvert_exporter": "python",
   "pygments_lexer": "ipython3",
   "version": "3.9.10"
  },
  "orig_nbformat": 4,
  "vscode": {
   "interpreter": {
    "hash": "6fc4a130331961d1338f2a04b91d69ca83271a65ed2826cc09598a91e7544b14"
   }
  }
 },
 "nbformat": 4,
 "nbformat_minor": 2
}
