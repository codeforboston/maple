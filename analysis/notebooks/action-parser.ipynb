{
 "cells": [
  {
   "cell_type": "code",
   "execution_count": null,
   "metadata": {},
   "outputs": [],
   "source": [
    "from analysis import collectConnections, print_with_stats\n",
    "import pandas as pd\n",
    "import re"
   ]
  },
  {
   "cell_type": "code",
   "execution_count": null,
   "metadata": {},
   "outputs": [],
   "source": [
    "to_namedtuple = lambda x: list(x.itertuples())\n",
    "actions = to_namedtuple(pd.read_csv('../data/all-history-actions.csv'))\n",
    "findBillNum = re.compile('([HS]\\d{1,5})')"
   ]
  },
  {
   "cell_type": "code",
   "execution_count": null,
   "metadata": {},
   "outputs": [],
   "source": [
    "bill_number = 'H4461'\n",
    "connections = collectConnections(bill_number)\n",
    "print_with_stats(connections)"
   ]
  },
  {
   "cell_type": "code",
   "execution_count": null,
   "metadata": {},
   "outputs": [],
   "source": [
    "\n",
    "#converts list named tuples to a list of dictionaries\n",
    "def action_to_dict(actions):\n",
    "    action_dict = [action._asdict() for action in actions]\n",
    "    return action_dict\n",
    "\n",
    "action_to_dict(actions)"
   ]
  },
  {
   "cell_type": "code",
   "execution_count": null,
   "metadata": {},
   "outputs": [],
   "source": [
    "# TODO: parse action types: \"referred to\", \"hearing scheduled\", \"reported from\"\n",
    "# TODO: create parse function that converts a raw action string to an array of dicts. Each dict has a 'type' field that identifies its type, and additional attribute fields\n",
    "\n",
    "referred = re.compile(\n",
    "    \"referred to the committee on (?P<committee_name>.*)\", flags=re.IGNORECASE\n",
    ")\n",
    "\n",
    "hearing_scheduled = re.compile(\n",
    "    \"hearing scheduled for (?P<date>.*) from (?P<time>.*) in (?P<forum>.*)\", flags = re.IGNORECASE\n",
    ")\n",
    "\n",
    "reported = re.compile(\n",
    "    \"reporting from (?P<committee_name>.*)\", flags= re.IGNORECASE\n",
    ")\n",
    "\n",
    "action = actions[0].action\n",
    "r = referred.match(action)\n",
    "\n",
    "# actions[0] is a namedtuple. You can convert it to a dict with actions[0]._asdict()\n",
    "display(actions[0])\n",
    "print(action, r.groupdict())\n",
    "\n",
    "def parse(action):\n",
    "    return [{\"type\": \"reported\"}, {\"type\": \"referred\", \"committee_name\": \"Technology\"}]"
   ]
  },
  {
   "cell_type": "code",
   "execution_count": null,
   "metadata": {},
   "outputs": [],
   "source": [
    "action_list = [x.action for x in actions]\n",
    "action_types = [referred, hearing_scheduled, reported]\n",
    "action_dict\n",
    "\n",
    "for action in action_list:\n",
    "    for action_type in action_types:\n",
    "        selected_actions = action_type.match(action)\n",
    "        if selected_actions:\n",
    "             print(selected_actions.groupdict())\n",
    "     \n",
    "\n",
    "def select_pattern(action_types):\n",
    "    for action in action_list:\n",
    "        for action_type in action_types:\n",
    "            selected_actions = action_type.match(action)\n",
    "            if selected_actions:\n",
    "                action_dict = selected_actions.groupdict()\n",
    "                return action_dict\n",
    "\n",
    "\n",
    "\n",
    "\n",
    "# print(selected_actions)\n",
    "    # selected_actions = referred.match(action_type)\n",
    "    \n",
    "\n",
    "\n",
    "\n",
    "\n",
    "\n",
    "\n"
   ]
  },
  {
   "cell_type": "code",
   "execution_count": null,
   "metadata": {},
   "outputs": [],
   "source": [
    "actions = [y['action'] for y in action_dict]\n",
    "actions"
   ]
  },
  {
   "cell_type": "code",
   "execution_count": null,
   "metadata": {},
   "outputs": [],
   "source": [
    "action_types = [referred, hearing_scheduled, reported]\n",
    "\n",
    "selected_actions = []\n",
    "actions = action_to_dict(actions)\n",
    "for action in actions:\n",
    "    for action_type in action_types:\n",
    "        selected_action = action_type.match(action)\n",
    "        if selected_action:\n",
    "             selected_actions.append(selected_action)\n",
    "selected_action_dict = []            \n",
    "for action in selected_actions:\n",
    "    selected_action_dict.append(action.groupdict())\n",
    "\n",
    "selected_action_dict\n",
    "\n"
   ]
  },
  {
   "cell_type": "code",
   "execution_count": null,
   "metadata": {},
   "outputs": [],
   "source": [
    "patterns = select_pattern(action_types)\n",
    "\n",
    "patterns"
   ]
  },
  {
   "cell_type": "code",
   "execution_count": null,
   "metadata": {},
   "outputs": [],
   "source": [
    "def parse_action(patterns, action_tuple):\n",
    "  action = action_tuple._asdict()\n",
    "  parsed = []\n",
    "  for pattern in patterns:\n",
    "    match = pattern.match(action.action)\n",
    "    if match:\n",
    "      parsed.append(match.groupdict())\n",
    "  action['parsed'] = parsed\n",
    "  return action"
   ]
  }
 ],
 "metadata": {
  "kernelspec": {
   "display_name": "Python 3.9.10 ('maps': venv)",
   "language": "python",
   "name": "python3"
  },
  "language_info": {
   "codemirror_mode": {
    "name": "ipython",
    "version": 3
   },
   "file_extension": ".py",
   "mimetype": "text/x-python",
   "name": "python",
   "nbconvert_exporter": "python",
   "pygments_lexer": "ipython3",
   "version": "3.9.10"
  },
  "orig_nbformat": 4,
  "vscode": {
   "interpreter": {
    "hash": "6fc4a130331961d1338f2a04b91d69ca83271a65ed2826cc09598a91e7544b14"
   }
  }
 },
 "nbformat": 4,
 "nbformat_minor": 2
}
